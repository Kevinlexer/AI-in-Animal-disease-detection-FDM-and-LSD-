{
 "cells": [
  {
   "cell_type": "code",
   "execution_count": 1,
   "id": "7a2171f3",
   "metadata": {},
   "outputs": [
    {
     "name": "stdout",
     "output_type": "stream",
     "text": [
      "Note: you may need to restart the kernel to use updated packages.\n"
     ]
    },
    {
     "name": "stderr",
     "output_type": "stream",
     "text": [
      "ERROR: Could not find a version that satisfies the requirement tensorflow (from versions: none)\n",
      "ERROR: No matching distribution found for tensorflow\n"
     ]
    }
   ],
   "source": [
    "pip install tensorflow "
   ]
  },
  {
   "cell_type": "code",
   "execution_count": 1,
   "id": "5b4ff327-026e-4b89-a137-a76ac5a3e510",
   "metadata": {
    "scrolled": true
   },
   "outputs": [
    {
     "ename": "ModuleNotFoundError",
     "evalue": "No module named 'tensorflow'",
     "output_type": "error",
     "traceback": [
      "\u001b[1;31m---------------------------------------------------------------------------\u001b[0m",
      "\u001b[1;31mModuleNotFoundError\u001b[0m                       Traceback (most recent call last)",
      "Cell \u001b[1;32mIn[1], line 4\u001b[0m\n\u001b[0;32m      2\u001b[0m \u001b[38;5;28;01mimport\u001b[39;00m\u001b[38;5;250m \u001b[39m\u001b[38;5;21;01mos\u001b[39;00m\n\u001b[0;32m      3\u001b[0m \u001b[38;5;28;01mimport\u001b[39;00m\u001b[38;5;250m \u001b[39m\u001b[38;5;21;01mnumpy\u001b[39;00m\u001b[38;5;250m \u001b[39m\u001b[38;5;28;01mas\u001b[39;00m\u001b[38;5;250m \u001b[39m\u001b[38;5;21;01mnp\u001b[39;00m\n\u001b[1;32m----> 4\u001b[0m \u001b[38;5;28;01mimport\u001b[39;00m\u001b[38;5;250m \u001b[39m\u001b[38;5;21;01mtensorflow\u001b[39;00m\u001b[38;5;250m \u001b[39m\u001b[38;5;28;01mas\u001b[39;00m\u001b[38;5;250m \u001b[39m\u001b[38;5;21;01mtf\u001b[39;00m\n\u001b[0;32m      5\u001b[0m \u001b[38;5;28;01mimport\u001b[39;00m\u001b[38;5;250m \u001b[39m\u001b[38;5;21;01mmatplotlib\u001b[39;00m\u001b[38;5;21;01m.\u001b[39;00m\u001b[38;5;21;01mpyplot\u001b[39;00m\u001b[38;5;250m \u001b[39m\u001b[38;5;28;01mas\u001b[39;00m\u001b[38;5;250m \u001b[39m\u001b[38;5;21;01mplt\u001b[39;00m\n\u001b[0;32m      6\u001b[0m \u001b[38;5;28;01mfrom\u001b[39;00m\u001b[38;5;250m \u001b[39m\u001b[38;5;21;01mtensorflow\u001b[39;00m\u001b[38;5;21;01m.\u001b[39;00m\u001b[38;5;21;01mkeras\u001b[39;00m\u001b[38;5;21;01m.\u001b[39;00m\u001b[38;5;21;01mpreprocessing\u001b[39;00m\u001b[38;5;21;01m.\u001b[39;00m\u001b[38;5;21;01mimage\u001b[39;00m\u001b[38;5;250m \u001b[39m\u001b[38;5;28;01mimport\u001b[39;00m ImageDataGenerator\n",
      "\u001b[1;31mModuleNotFoundError\u001b[0m: No module named 'tensorflow'"
     ]
    }
   ],
   "source": [
    "# Importing requaired libraries a for loading and processing images\n",
    "import os\n",
    "import numpy as np\n",
    "import tensorflow as tf\n",
    "import matplotlib.pyplot as plt\n",
    "from tensorflow.keras.preprocessing.image import ImageDataGenerator"
   ]
  },
  {
   "cell_type": "markdown",
   "id": "99592aef-0040-4554-90c9-edde332adf8a",
   "metadata": {},
   "source": [
    "### Load and Organise dataset"
   ]
  },
  {
   "cell_type": "code",
   "execution_count": null,
   "id": "9ae7203d-83fe-4f93-8ca1-1ad75e11f916",
   "metadata": {},
   "outputs": [],
   "source": [
    "import os\n",
    "\n",
    "# Define dataset paths\n",
    "dataset_path = \"dataset\"\n",
    "train_path = os.path.join(dataset_path, \"Train\")\n",
    "test_path = os.path.join(dataset_path, \"Test\")\n",
    "\n",
    "# Define class names\n",
    "classes = [\"Foot and Mouth\", \"Lumpy\", \"Normal\"]\n",
    "\n",
    "# Function to count images in each class\n",
    "def count_images_in_folders(base_path):\n",
    "    for class_name in classes:\n",
    "        class_path = os.path.join(base_path, class_name)\n",
    "        num_images = len(os.listdir(class_path))\n",
    "        print(f\"{class_name}: {num_images} images\")\n",
    "\n",
    "# Count images in training set\n",
    "print(\"Training Dataset:\")\n",
    "count_images_in_folders(train_path)\n",
    "\n",
    "# Count images in test set\n",
    "print(\"\\nTest Dataset:\")\n",
    "count_images_in_folders(test_path)"
   ]
  },
  {
   "cell_type": "markdown",
   "id": "207d124d-1776-4e8c-8a96-f51a09c0c540",
   "metadata": {},
   "source": [
    "### 3: Create Data Generators for Data Augmentation"
   ]
  },
  {
   "cell_type": "code",
   "execution_count": null,
   "id": "7cf657c0-3697-44fc-886d-8107359dcf2c",
   "metadata": {},
   "outputs": [],
   "source": [
    "# Create ImageDataGenerators for data augmentation and preprocessing\n",
    "train_datagen = ImageDataGenerator(\n",
    "    rescale=1./255,                # Normalize the pixel values between 0 and 1\n",
    "    shear_range=0.2,               # Shear images randomly\n",
    "    zoom_range=0.2,                # Zoom images randomly\n",
    "    horizontal_flip=True           # Flip images randomly\n",
    ")\n",
    "\n",
    "# Set up the directory structure for training data\n",
    "train_generator = train_datagen.flow_from_directory(\n",
    "    dataset_path,                 # Root directory of the dataset\n",
    "    target_size=(224, 224),       # Resize images to the required size (224x224 for CNN)\n",
    "    batch_size=32,                # Batch size for training\n",
    "    class_mode='categorical',     # Multi-class classification (FMD, LSD, Normal)\n",
    "    shuffle=True                  # Shuffle the data to randomize training\n",
    ")\n",
    "\n",
    "# Check the class labels that the generator identified\n",
    "print(\"Class Labels: \", train_generator.class_indices)\n"
   ]
  },
  {
   "cell_type": "markdown",
   "id": "cb2b67a4-c772-4ff4-aa45-b09e3c371482",
   "metadata": {},
   "source": [
    "### 4: Visualize Sample Images from the Dataset"
   ]
  },
  {
   "cell_type": "code",
   "execution_count": null,
   "id": "f4bfb11d-572b-4183-9458-1b18be7e9bf8",
   "metadata": {},
   "outputs": [],
   "source": [
    "# Optional: Visualize a batch of images to ensure proper loading\n",
    "sample_batch = next(train_generator)  # Get the first batch of images\n",
    "plt.figure(figsize=(10, 10))\n",
    "for i in range(9):  # Plot 9 images from the batch\n",
    "    plt.subplot(3, 3, i + 1)\n",
    "    plt.imshow(sample_batch[0][i])  # Display each image in the batch\n",
    "    plt.axis('off')\n",
    "plt.show()\n"
   ]
  },
  {
   "cell_type": "code",
   "execution_count": null,
   "id": "6c057ce4-c62e-414f-9ead-89fb849083aa",
   "metadata": {},
   "outputs": [],
   "source": []
  },
  {
   "cell_type": "code",
   "execution_count": null,
   "id": "8248c76e-a5a5-40b9-8ce4-6917db82a980",
   "metadata": {},
   "outputs": [],
   "source": []
  }
 ],
 "metadata": {
  "kernelspec": {
   "display_name": "Python 3 (ipykernel)",
   "language": "python",
   "name": "python3"
  },
  "language_info": {
   "codemirror_mode": {
    "name": "ipython",
    "version": 3
   },
   "file_extension": ".py",
   "mimetype": "text/x-python",
   "name": "python",
   "nbconvert_exporter": "python",
   "pygments_lexer": "ipython3",
   "version": "3.12.7"
  }
 },
 "nbformat": 4,
 "nbformat_minor": 5
}
