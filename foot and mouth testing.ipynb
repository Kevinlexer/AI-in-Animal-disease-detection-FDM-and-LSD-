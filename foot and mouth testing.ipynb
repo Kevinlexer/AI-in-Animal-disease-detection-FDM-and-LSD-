{
 "cells": [
  {
   "cell_type": "code",
   "execution_count": 1,
   "id": "0cc09087-8a6d-4d1f-b6e8-efc0cdb3d52a",
   "metadata": {},
   "outputs": [
    {
     "name": "stderr",
     "output_type": "stream",
     "text": [
      "WARNING:absl:Compiled the loaded model, but the compiled metrics have yet to be built. `model.compile_metrics` will be empty until you train or evaluate the model.\n"
     ]
    }
   ],
   "source": [
    "import tensorflow as tf\n",
    "from tensorflow.keras.preprocessing import image\n",
    "import numpy as np\n",
    "\n",
    "# Load the trained model\n",
    "model = tf.keras.models.load_model(\"foot_and_mouth_model.h5\")\n",
    "\n",
    "# Class labels (ensure they match the training order)\n",
    "class_labels = [\"Foot_and_mouth\", \"Lumpy\", \"Normal\"]\n"
   ]
  },
  {
   "cell_type": "code",
   "execution_count": 2,
   "id": "a41b5109-a960-4172-9ea7-2ad9460dfbb5",
   "metadata": {},
   "outputs": [],
   "source": [
    "def preprocess_image(img_path, img_size=(224, 224)):\n",
    "    img = image.load_img(img_path, target_size=img_size)  # Load image\n",
    "    img_array = image.img_to_array(img)  # Convert to array\n",
    "    img_array = np.expand_dims(img_array, axis=0)  # Expand dimensions for batch\n",
    "    img_array = img_array / 255.0  # Normalize\n",
    "    return img_array"
   ]
  },
  {
   "cell_type": "code",
   "execution_count": 3,
   "id": "8d0e8cb3-c22b-498e-9ad0-116d5fc56cc4",
   "metadata": {},
   "outputs": [],
   "source": [
    "def predict_image(img_path):\n",
    "    processed_img = preprocess_image(img_path)\n",
    "    prediction = model.predict(processed_img)  # Get prediction\n",
    "    predicted_class = np.argmax(prediction, axis=1)[0]  # Get highest confidence class\n",
    "    confidence = np.max(prediction)  # Get confidence score\n",
    "\n",
    "    print(f\"Predicted Class: {class_labels[predicted_class]} ({confidence * 100:.2f}%)\")\n",
    "    return class_labels[predicted_class], confidence"
   ]
  },
  {
   "cell_type": "code",
   "execution_count": 4,
   "id": "b27b5c94-ffad-44be-af09-54502a30d7e6",
   "metadata": {},
   "outputs": [
    {
     "name": "stdout",
     "output_type": "stream",
     "text": [
      "\u001b[1m1/1\u001b[0m \u001b[32m━━━━━━━━━━━━━━━━━━━━\u001b[0m\u001b[37m\u001b[0m \u001b[1m1s\u001b[0m 848ms/step\n",
      "Predicted Class: Lumpy (75.50%)\n"
     ]
    }
   ],
   "source": [
    "# Provide the path to your test image\n",
    "image_path = \"lumpy_test.png\"\n",
    "\n",
    "# Predict\n",
    "predicted_class, confidence = predict_image(image_path)\n"
   ]
  },
  {
   "cell_type": "code",
   "execution_count": 5,
   "id": "a52dba89-77a0-426a-82b2-f0cb98a4314e",
   "metadata": {},
   "outputs": [
    {
     "name": "stdout",
     "output_type": "stream",
     "text": [
      "\u001b[1m1/1\u001b[0m \u001b[32m━━━━━━━━━━━━━━━━━━━━\u001b[0m\u001b[37m\u001b[0m \u001b[1m0s\u001b[0m 192ms/step\n",
      "Predicted Class: Normal (73.29%)\n"
     ]
    }
   ],
   "source": [
    "# Provide the path to your test image\n",
    "image_path = \"image.png\"\n",
    "\n",
    "# Predict\n",
    "predicted_class, confidence = predict_image(image_path)\n"
   ]
  },
  {
   "cell_type": "code",
   "execution_count": null,
   "id": "e5fdfb11-94ae-486f-83ce-5317c51def2c",
   "metadata": {},
   "outputs": [],
   "source": []
  }
 ],
 "metadata": {
  "kernelspec": {
   "display_name": "Python 3 (ipykernel)",
   "language": "python",
   "name": "python3"
  },
  "language_info": {
   "codemirror_mode": {
    "name": "ipython",
    "version": 3
   },
   "file_extension": ".py",
   "mimetype": "text/x-python",
   "name": "python",
   "nbconvert_exporter": "python",
   "pygments_lexer": "ipython3",
   "version": "3.12.7"
  }
 },
 "nbformat": 4,
 "nbformat_minor": 5
}
